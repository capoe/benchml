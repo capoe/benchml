{
 "cells": [
  {
   "cell_type": "code",
   "execution_count": 3,
   "id": "d4af7304",
   "metadata": {},
   "outputs": [],
   "source": [
    "%load_ext autoreload\n",
    "%autoreload 2\n",
    "import benchml as bml\n",
    "import numpy as np\n",
    "\n",
    "log = bml.log"
   ]
  },
  {
   "cell_type": "markdown",
   "id": "8cd99d63",
   "metadata": {},
   "source": [
    "## Defining new models"
   ]
  },
  {
   "cell_type": "code",
   "execution_count": null,
   "id": "1e88e30b",
   "metadata": {},
   "outputs": [],
   "source": [
    "from benchml.hyper import GridHyper, BayesianHyper, Hyper\n",
    "\n",
    "\n",
    "def build_linear():\n",
    "    return bml.pipeline.Module(\n",
    "        tag=\"Linear\",\n",
    "        transforms=[\n",
    "            bml.transforms.ExttInput(),\n",
    "            bml.transforms.CleanMatrix(inputs={\"X\": \"ExttInput.X\"}),\n",
    "            bml.transforms.LinearRegression(inputs={\"X\": \"CleanMatrix.X\", \"y\": \"ExttInput.Y\"}),\n",
    "        ],\n",
    "        outputs={\"y\": \"LinearRegression.y\"},\n",
    "    )\n",
    "\n",
    "\n",
    "def build_ridge():\n",
    "    return bml.pipeline.Module(\n",
    "        tag=\"Ridge\",\n",
    "        transforms=[\n",
    "            bml.transforms.ExttInput(),\n",
    "            bml.transforms.CleanMatrix(inputs={\"X\": \"ExttInput.X\"}),\n",
    "            bml.transforms.Ridge(inputs={\"X\": \"CleanMatrix.X\", \"y\": \"ExttInput.Y\"}),\n",
    "        ],\n",
    "        hyper=BayesianHyper(\n",
    "            Hyper({\"Ridge.alpha\": np.linspace(-7, 7, 15)}),\n",
    "            convert={\"Ridge.alpha\": (lambda p: 10 ** p)},\n",
    "        ),\n",
    "        outputs={\"y\": \"Ridge.y\"},\n",
    "    )\n",
    "\n",
    "\n",
    "def build_mp():\n",
    "    return bml.pipeline.Module(\n",
    "        tag=\"MarchenkoLinear\",\n",
    "        transforms=[\n",
    "            bml.transforms.ExttInput(),\n",
    "            bml.transforms.CleanMatrix(\n",
    "                args={\"axis\": 0, \"std_threshold\": 1e-10}, inputs={\"X\": \"ExttInput.X\"}\n",
    "            ),\n",
    "            bml.transforms.MarchenkoPasturFilter(\n",
    "                args={\"monomials\": [1, 2]}, inputs={\"X\": \"CleanMatrix.X\"}\n",
    "            ),\n",
    "            bml.transforms.LinearRegression(\n",
    "                inputs={\"X\": \"MarchenkoPasturFilter.X\", \"y\": \"ExttInput.Y\"}\n",
    "            ),\n",
    "        ],\n",
    "        hyper=GridHyper(\n",
    "            Hyper({\"CleanMatrix.std_threshold\": [1e-10, 0.5]}),\n",
    "            Hyper({\"MarchenkoPasturFilter.monomials\": [[1], [2], [1, 2]]}),\n",
    "        ),\n",
    "        outputs={\"y\": \"LinearRegression.y\"},\n",
    "    )\n",
    "\n",
    "\n",
    "def build_rf():\n",
    "    return bml.pipeline.Module(\n",
    "        tag=\"RandomForest\",\n",
    "        transforms=[\n",
    "            bml.transforms.ExttInput(),\n",
    "            bml.transforms.RandomForestRegressor(\n",
    "                tag=\"predictor\",\n",
    "                args={\"n_estimators\": 10},\n",
    "                inputs={\"X\": \"ExttInput.X\", \"y\": \"ExttInput.Y\"},\n",
    "            ),\n",
    "        ],\n",
    "        hyper=GridHyper(Hyper({\"predictor.max_depth\": [2, 4, 8]})),\n",
    "        broadcast={},\n",
    "        outputs={\"y\": \"predictor.y\"},\n",
    "    )\n",
    "\n",
    "\n",
    "def build_models():\n",
    "    return [build_linear(), build_ridge(), build_rf(), build_mp()]"
   ]
  },
  {
   "cell_type": "markdown",
   "id": "980ec01a",
   "metadata": {},
   "source": [
    "## GridHyper and BayesianHyper"
   ]
  },
  {
   "cell_type": "code",
   "execution_count": null,
   "id": "59888470",
   "metadata": {},
   "outputs": [],
   "source": [
    "grid = GridHyper(\n",
    "    Hyper({\"descriptor_atomic.normalize\": [False, True]}),\n",
    "    Hyper({\"descriptor_atomic.rcut\": np.linspace(2.0, 7.5, 12)}),\n",
    "    Hyper({\"descriptor_atomic.nmax\": [6, 7, 8, 9, 10]}),\n",
    "    Hyper({\"descriptor_atomic.lmax\": [4, 5, 6, 7]}),\n",
    "    Hyper({\"descriptor_atomic.sigma\": [0.25, 0.5, 0.75]}),\n",
    "    Hyper({\"descriptor_atomic.part_sigma\": [0.25, 0.5, 0.75]}),\n",
    "    Hyper({\"descriptor_atomic.wconstant\": [False, True]}),\n",
    "    Hyper({\"descriptor_atomic.wscale\": [0.5, 1.0, 1.5]}),\n",
    "    Hyper({\"descriptor_atomic.wcentre\": [0.5, 1.0, 1.5]}),\n",
    "    Hyper({\"descriptor_atomic.ldamp\": [0.5, 1.0, 2.0, 4.0]}),\n",
    "    Hyper({\"descriptor_atomic.heavy_only\": [False, True]}),\n",
    "    Hyper({\"predictor.power\": [1, 2, 3, 4]}),\n",
    "    Hyper(\n",
    "        {\n",
    "            \"descriptor.reduce_op\": [\"mean\", \"sum\", \"sum\"],\n",
    "            \"descriptor.normalize\": [False, False, True],\n",
    "        }\n",
    "    ),\n",
    ")"
   ]
  },
  {
   "cell_type": "code",
   "execution_count": null,
   "id": "384ea272",
   "metadata": {},
   "outputs": [],
   "source": [
    "print(grid.random())\n",
    "# >>> for repeat, setting in enumerate(grid):\n",
    "# >>>     print(setting)\n",
    "# >>>     if repeat > 10: break"
   ]
  },
  {
   "cell_type": "markdown",
   "id": "c7a3a572",
   "metadata": {},
   "source": [
    "## Stand-alone transforms"
   ]
  },
  {
   "cell_type": "code",
   "execution_count": null,
   "id": "f74d4798",
   "metadata": {},
   "outputs": [],
   "source": [
    "from benchml.transforms import CleanMatrix\n",
    "\n",
    "\n",
    "def make_data():\n",
    "    return np.random.normal(\n",
    "        loc=np.random.uniform(size=(10,)), scale=np.random.uniform(size=(10,)), size=(10, 10)\n",
    "    )\n",
    "\n",
    "\n",
    "X_train = make_data()\n",
    "X_probe = make_data()\n",
    "\n",
    "whiten = CleanMatrix().detach(std_threshold=1e-3, axis=0)\n",
    "whiten.fit(X=X_train)\n",
    "whiten.map(X=X_probe)"
   ]
  },
  {
   "cell_type": "markdown",
   "id": "83beee49",
   "metadata": {},
   "source": [
    "## Listing transforms and models"
   ]
  },
  {
   "cell_type": "code",
   "execution_count": null,
   "id": "1f54332d",
   "metadata": {},
   "outputs": [],
   "source": [
    "trafos = list(bml.transforms.get_all())\n",
    "_ = [print(\"%2d\" % idx, t.__name__) for idx, t in enumerate(trafos)]"
   ]
  },
  {
   "cell_type": "code",
   "execution_count": null,
   "id": "d7b5508a",
   "metadata": {},
   "outputs": [],
   "source": [
    "bml.models.list_all()"
   ]
  },
  {
   "cell_type": "code",
   "execution_count": null,
   "id": "3925232d",
   "metadata": {},
   "outputs": [],
   "source": [
    "model = bml.models.get(\"logd_delta_hybrid_gylm_krr\").pop()\n",
    "model.showHelpMessage()"
   ]
  },
  {
   "cell_type": "markdown",
   "id": "6e92adcc",
   "metadata": {},
   "source": [
    "## Inspecting a model"
   ]
  },
  {
   "cell_type": "code",
   "execution_count": null,
   "id": "db1837b2",
   "metadata": {},
   "outputs": [],
   "source": [
    "model = build_mp()\n",
    "print(model)"
   ]
  },
  {
   "cell_type": "code",
   "execution_count": null,
   "id": "2eb0cb7b",
   "metadata": {},
   "outputs": [],
   "source": [
    "args = model.compileArgs()\n",
    "print(\"Args =\")\n",
    "_ = [print(\"  %-40s = %-10s\" % (k, v)) for k, v in args.items()]"
   ]
  },
  {
   "cell_type": "code",
   "execution_count": null,
   "id": "d9872f23",
   "metadata": {},
   "outputs": [],
   "source": [
    "model.showHelpMessage()"
   ]
  },
  {
   "cell_type": "markdown",
   "id": "64fe8a52",
   "metadata": {},
   "source": [
    "## Fitting a model"
   ]
  },
  {
   "cell_type": "code",
   "execution_count": null,
   "id": "ff7f8a8c",
   "metadata": {},
   "outputs": [],
   "source": [
    "def fit_evaluate_model(\n",
    "    model,\n",
    "    dataset,\n",
    "    metrics=[\"mae\", \"r2\", \"rhop\"],\n",
    "    split=dict(method=\"random\", n_splits=10, train_fraction=0.9),\n",
    "):\n",
    "    accu = bml.Accumulator(metrics=metrics)\n",
    "    with bml.stream(model, dataset) as stream:\n",
    "        for idx, (train, test) in enumerate(stream.split(**split)):\n",
    "            model.fit(train)\n",
    "            output_train = model.map(train)\n",
    "            output_test = model.map(test)\n",
    "            accu.append(\"train\", output_train[\"y\"], train[\"ExttInput.Y\"])\n",
    "            accu.append(\"test\", output_test[\"y\"], test[\"ExttInput.Y\"])\n",
    "        print(\"Accumulated metrics:\")\n",
    "        res = accu.evaluateAll(log=bml.log, bootstrap=0)\n",
    "    return model, res"
   ]
  },
  {
   "cell_type": "code",
   "execution_count": null,
   "id": "253dcdb8",
   "metadata": {},
   "outputs": [],
   "source": [
    "dataset = bml.load_dataset(\"../../tests/unit_tests/data/ising.extt\")\n",
    "print(dataset)\n",
    "model = build_mp()\n",
    "model, res = fit_evaluate_model(model, dataset)\n",
    "print(model)"
   ]
  },
  {
   "cell_type": "code",
   "execution_count": null,
   "id": "7012ec44",
   "metadata": {},
   "outputs": [],
   "source": [
    "bml.splits.synchronize(0)\n",
    "models = build_models()\n",
    "timer = bml.utils.StagedTimer()\n",
    "for m in models:\n",
    "    print(\"Evaluate model '%s'\" % m.tag)\n",
    "    with timer.time(m.tag):\n",
    "        model, res = fit_evaluate_model(m, dataset)\n",
    "print(\"Wall times:\")\n",
    "timer.report(log)"
   ]
  },
  {
   "cell_type": "markdown",
   "id": "ae95ce18",
   "metadata": {},
   "source": [
    "## Hyperfitting and benchmarking"
   ]
  },
  {
   "cell_type": "code",
   "execution_count": null,
   "id": "cc7ee0fe",
   "metadata": {},
   "outputs": [],
   "source": [
    "def hyperfit_evaluate_model(\n",
    "    model,\n",
    "    dataset,\n",
    "    accu,\n",
    "    split=dict(method=\"random\", n_splits=1, train_fraction=0.9),\n",
    "    hypersplit=dict(method=\"random\", n_splits=10, train_fraction=0.8),\n",
    "):\n",
    "    with bml.stream(model, dataset) as stream:\n",
    "        for idx, (train, test) in enumerate(stream.split(**split)):\n",
    "            if model.hyper is not None:\n",
    "                model.hyperfit(\n",
    "                    stream=train,\n",
    "                    split_args=hypersplit,\n",
    "                    accu_args=dict(metric=accu.metrics[0]),\n",
    "                    target=\"y\",\n",
    "                    target_ref=\"ExttInput.Y\",\n",
    "                    log=log,\n",
    "                )\n",
    "            else:\n",
    "                model.fit(stream=train)\n",
    "            output_train = model.map(train)\n",
    "            output_test = model.map(test)\n",
    "            accu.append(\"%s_train\" % model.tag, output_train[\"y\"], train[\"ExttInput.Y\"])\n",
    "            accu.append(\"%s_test\" % model.tag, output_test[\"y\"], test[\"ExttInput.Y\"])\n",
    "    return res"
   ]
  },
  {
   "cell_type": "code",
   "execution_count": null,
   "id": "a2bb8f57",
   "metadata": {},
   "outputs": [],
   "source": [
    "models = build_models()\n",
    "accu = bml.Accumulator(metrics=[\"r2\", \"r2\", \"rhop\"])\n",
    "timer = bml.utils.StagedTimer()\n",
    "for m in models:\n",
    "    print(\"Evaluate model '%s'\" % m.tag)\n",
    "    with timer.time(m.tag):\n",
    "        res = hyperfit_evaluate_model(m, dataset, accu)\n",
    "print(\"Accumulated metrics:\")\n",
    "res = accu.evaluateAll(log=bml.log, bootstrap=0)"
   ]
  },
  {
   "cell_type": "code",
   "execution_count": null,
   "id": "ad7cb2de",
   "metadata": {},
   "outputs": [],
   "source": [
    "timer.report(log)"
   ]
  },
  {
   "cell_type": "code",
   "execution_count": null,
   "id": "b7c0c59d",
   "metadata": {},
   "outputs": [],
   "source": [
    "%matplotlib inline\n",
    "import matplotlib.pyplot as plot\n",
    "\n",
    "plot.style.use(\"seaborn-white\")\n",
    "fig, ax = plot.subplots(1, 4, sharex=\"col\", sharey=\"row\", figsize=(16, 4))\n",
    "for midx, m in enumerate(models):\n",
    "    yp, yt = accu[\"%s_test\" % m.tag]\n",
    "    yp_train, yt_train = accu[\"%s_train\" % m.tag]\n",
    "    ax[midx].scatter(yp, yt, c=\"#0066ff\")\n",
    "    ax[midx].scatter(yp_train, yt_train, s=1.0, c=\"#333333\")\n",
    "    ax[midx].set_title(m.tag)"
   ]
  },
  {
   "cell_type": "markdown",
   "id": "c679d5bb",
   "metadata": {},
   "source": [
    "## Train and deploy"
   ]
  },
  {
   "cell_type": "code",
   "execution_count": null,
   "id": "50e35b48",
   "metadata": {},
   "outputs": [],
   "source": [
    "model = build_mp()\n",
    "with bml.stream(model, dataset) as stream:\n",
    "    if model.hyper is not None:\n",
    "        model.hyperfit(\n",
    "            stream=stream,\n",
    "            split_args=dict(method=\"kfold\", k=10),\n",
    "            accu_args=dict(metric=\"r2\"),\n",
    "            target=\"y\",\n",
    "            target_ref=\"ExttInput.Y\",\n",
    "            log=log,\n",
    "        )\n",
    "    else:\n",
    "        model.fit(stream)\n",
    "bml.save(\"model.arch\", model)"
   ]
  },
  {
   "cell_type": "code",
   "execution_count": null,
   "id": "79462940",
   "metadata": {},
   "outputs": [],
   "source": [
    "model = bml.load(\"model.arch\")\n",
    "model.showHelpMessage()\n",
    "with bml.stream(model, dataset) as stream:\n",
    "    output = model.map(stream)\n",
    "print(output)"
   ]
  },
  {
   "cell_type": "markdown",
   "id": "961e1db1",
   "metadata": {},
   "source": [
    "## Ensembling and conformal predictions"
   ]
  },
  {
   "cell_type": "code",
   "execution_count": 4,
   "id": "a6992f53",
   "metadata": {},
   "outputs": [],
   "source": [
    "from benchml.transforms import *\n",
    "\n",
    "\n",
    "def build_conformal_mp():\n",
    "    return Module(\n",
    "        tag=\"MarchenkoConformal\",\n",
    "        transforms=[\n",
    "            ExttInput(tag=\"input\"),\n",
    "            CleanMatrix(\n",
    "                tag=\"clean\", args={\"axis\": 0, \"std_threshold\": 1e-10}, inputs={\"X\": \"input.X\"}\n",
    "            ),\n",
    "            MarchenkoPasturFilter(tag=\"descriptor\", args={}, inputs={\"X\": \"input.X\"}),\n",
    "            LinearRegression(tag=\"linear\", detached=True, args={}),\n",
    "            EnsembleRegressor(\n",
    "                tag=\"ensemble\",\n",
    "                detached=True,\n",
    "                args={\n",
    "                    \"size\": 100,\n",
    "                    \"forward_inputs\": {\"X\": \"X\", \"y\": \"y\"},  # = default\n",
    "                    \"input_type\": \"descriptor\",\n",
    "                },\n",
    "                inputs={\"base_transform\": \"linear\"},\n",
    "            ),\n",
    "            ConformalRegressor(\n",
    "                tag=\"predictor\",\n",
    "                args={\n",
    "                    \"forward_inputs\": {\"X\": \"X\", \"y\": \"y\"},  # = default\n",
    "                    \"input_type\": \"descriptor\",  # = default\n",
    "                },\n",
    "                inputs={\"X\": \"descriptor.X\", \"y\": \"input.Y\", \"base_transform\": \"ensemble\"},\n",
    "            ),\n",
    "        ],\n",
    "        broadcast={},\n",
    "        outputs={\"y\": \"predictor.y\", \"dy\": \"predictor.dy\"},\n",
    "    )\n",
    "\n",
    "\n",
    "def build_ensemble_mp():\n",
    "    return Module(\n",
    "        tag=\"MarchenkoEnsemble\",\n",
    "        transforms=[\n",
    "            ExttInput(tag=\"input\"),\n",
    "            CleanMatrix(\n",
    "                tag=\"clean\", args={\"axis\": 0, \"std_threshold\": 1e-10}, inputs={\"X\": \"input.X\"}\n",
    "            ),\n",
    "            MarchenkoPasturFilter(tag=\"descriptor\", args={}, inputs={\"X\": \"input.X\"}),\n",
    "            LinearRegression(tag=\"linear\", detached=True, args={}),\n",
    "            EnsembleRegressor(\n",
    "                tag=\"predictor\",\n",
    "                args={\n",
    "                    \"size\": 100,\n",
    "                    \"forward_inputs\": {\"X\": \"X\", \"y\": \"y\"},  # = default\n",
    "                    \"input_type\": \"descriptor\",\n",
    "                },\n",
    "                inputs={\"X\": \"descriptor.X\", \"y\": \"input.Y\", \"base_transform\": \"linear\"},\n",
    "            ),\n",
    "        ],\n",
    "        broadcast={},\n",
    "        outputs={\"y\": \"predictor.y\", \"dy\": \"predictor.dy\"},\n",
    "    )\n",
    "\n",
    "\n",
    "def build_mp_models():\n",
    "    return [build_ensemble_mp(), build_conformal_mp()]\n",
    "\n",
    "\n",
    "models = build_mp_models()"
   ]
  },
  {
   "cell_type": "code",
   "execution_count": 5,
   "id": "d33ab788",
   "metadata": {},
   "outputs": [
    {
     "name": "stdout",
     "output_type": "stream",
     "text": [
      "ExttDataset with 4 arrays: Array[X(101, 100)] Array[Y(101,)] Array[J(100, 100)] Array[V(100,)] \n"
     ]
    }
   ],
   "source": [
    "dataset = bml.load_dataset(\"../../tests/unit_tests/data/ising.extt\")\n",
    "split = dict(method=\"random\", n_splits=1, train_fraction=0.9)\n",
    "print(dataset)"
   ]
  },
  {
   "cell_type": "code",
   "execution_count": 6,
   "id": "31c1f1e1",
   "metadata": {},
   "outputs": [
    {
     "data": {
      "image/png": "[encoded data removed]",
      "text/plain": [
       "<Figure size 720x360 with 2 Axes>"
      ]
     },
     "metadata": {},
     "output_type": "display_data"
    }
   ],
   "source": [
    "%matplotlib inline\n",
    "import matplotlib.pyplot as plot\n",
    "\n",
    "plot.style.use(\"seaborn-white\")\n",
    "fig, ax = plot.subplots(1, 2, sharex=\"col\", sharey=\"row\", figsize=(10, 5))\n",
    "\n",
    "\n",
    "def add_to_plot(model, test, ax):\n",
    "    output = model.map(test)\n",
    "    yt = test[\"input.Y\"]\n",
    "    yp = output[\"y\"]\n",
    "    dy = output[\"dy\"]\n",
    "    ax.errorbar(yp, yt, xerr=dy, c=\"#0066ff\", linestyle=\"none\", fmt=\".\")\n",
    "    ax.plot([-3500, 0], [-3500, 0], \"k--\")\n",
    "    ax.set_title(model.tag)\n",
    "\n",
    "\n",
    "bml.splits.synchronize(0)\n",
    "for midx, model in enumerate(models):\n",
    "    with bml.stream(model, dataset) as stream:\n",
    "        for idx, (train, test) in enumerate(stream.split(**split)):\n",
    "            model.fit(train)\n",
    "            add_to_plot(model, test, ax[midx])"
   ]
  },
  {
   "cell_type": "code",
   "execution_count": null,
   "id": "3df55d6f",
   "metadata": {},
   "outputs": [],
   "source": []
  }
 ],
 "metadata": {
  "kernelspec": {
   "display_name": "Python 3",
   "language": "python",
   "name": "python3"
  },
  "language_info": {
   "codemirror_mode": {
    "name": "ipython",
    "version": 3
   },
   "file_extension": ".py",
   "mimetype": "text/x-python",
   "name": "python",
   "nbconvert_exporter": "python",
   "pygments_lexer": "ipython3",
   "version": "3.7.10"
  }
 },
 "nbformat": 4,
 "nbformat_minor": 5
}